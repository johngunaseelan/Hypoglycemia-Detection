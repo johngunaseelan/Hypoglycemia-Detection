{
 "cells": [
  {
   "cell_type": "code",
   "execution_count": 34,
   "metadata": {
    "collapsed": true
   },
   "outputs": [],
   "source": [
    "import pandas as pd\n",
    "import numpy as np\n",
    "import glob"
   ]
  },
  {
   "cell_type": "code",
   "execution_count": 72,
   "metadata": {},
   "outputs": [
    {
     "name": "stdout",
     "output_type": "stream",
     "text": [
      "<class 'pandas.core.frame.DataFrame'>\n",
      "Int64Index: 29330 entries, 0 to 340\n",
      "Data columns (total 5 columns):\n",
      "Date             29330 non-null object\n",
      "Time             29330 non-null object\n",
      "Blood_Glucose    29330 non-null object\n",
      "Code             29264 non-null object\n",
      "Patient_ID       29330 non-null int64\n",
      "dtypes: int64(1), object(4)\n",
      "memory usage: 2.0+ MB\n"
     ]
    }
   ],
   "source": [
    "fileNames = sorted(glob.glob(\"../Data/d*\"))\n",
    "\n",
    "frames = []\n",
    "for i in range(len(fileNames)):\n",
    "    df = pd.read_csv(fileNames[i], delim_whitespace=True, header=None)\n",
    "    df[4]= i+1\n",
    "    frames.append(df)\n",
    "\n",
    "df = pd.concat(frames)\n",
    "df.columns = ['Date', 'Time', 'Blood_Glucose', 'Code', 'Patient_ID']\n",
    "emptyRows, emptyColumns = np.where(pd.isnull(df))\n",
    "#emptyRows\n",
    "\n",
    "df.drop(df.iloc[emptyRows].index)\n",
    "#df.drop(df.iloc[emptyRows].index)\n",
    "df.info()\n",
    "#df.drop(df.index[emptyRows])\n",
    "#df.info()\n",
    "#df.loc[:,'Patient_ID']\n",
    "#emptyRows"
   ]
  },
  {
   "cell_type": "code",
   "execution_count": 11,
   "metadata": {},
   "outputs": [
    {
     "data": {
      "text/plain": [
       "'/Users/preethi.john/Documents/GitHub/Hypoglycemia-Detection/Code'"
      ]
     },
     "execution_count": 11,
     "metadata": {},
     "output_type": "execute_result"
    }
   ],
   "source": [
    "%pwd"
   ]
  },
  {
   "cell_type": "code",
   "execution_count": 55,
   "metadata": {},
   "outputs": [
    {
     "name": "stdout",
     "output_type": "stream",
     "text": [
      "Help on function drop in module pandas.core.generic:\n",
      "\n",
      "drop(self, labels, axis=0, level=None, inplace=False, errors='raise')\n",
      "    Return new object with labels in requested axis removed.\n",
      "    \n",
      "    Parameters\n",
      "    ----------\n",
      "    labels : single label or list-like\n",
      "    axis : int or axis name\n",
      "    level : int or level name, default None\n",
      "        For MultiIndex\n",
      "    inplace : bool, default False\n",
      "        If True, do operation inplace and return None.\n",
      "    errors : {'ignore', 'raise'}, default 'raise'\n",
      "        If 'ignore', suppress error and existing labels are dropped.\n",
      "    \n",
      "        .. versionadded:: 0.16.1\n",
      "    \n",
      "    Returns\n",
      "    -------\n",
      "    dropped : type of caller\n",
      "\n"
     ]
    }
   ],
   "source": [
    "help(pd.DataFrame.drop)"
   ]
  },
  {
   "cell_type": "code",
   "execution_count": null,
   "metadata": {
    "collapsed": true
   },
   "outputs": [],
   "source": []
  }
 ],
 "metadata": {
  "kernelspec": {
   "display_name": "Python 3",
   "language": "python",
   "name": "python3"
  },
  "language_info": {
   "codemirror_mode": {
    "name": "ipython",
    "version": 3
   },
   "file_extension": ".py",
   "mimetype": "text/x-python",
   "name": "python",
   "nbconvert_exporter": "python",
   "pygments_lexer": "ipython3",
   "version": "3.6.3"
  }
 },
 "nbformat": 4,
 "nbformat_minor": 2
}
