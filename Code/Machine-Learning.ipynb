{
 "cells": [
  {
   "cell_type": "markdown",
   "metadata": {},
   "source": [
    "<H1 style=\"text-align: center;\">Hypoglycemia Detection</H1>\n",
    "<H3 style=\"text-align: center;\">Machine Learning</H3>\n",
    "###Imports"
   ]
  },
  {
   "cell_type": "code",
   "execution_count": 1,
   "metadata": {
    "collapsed": true
   },
   "outputs": [],
   "source": [
    "import pandas as pd\n",
    "import numpy as np\n",
    "import matplotlib.pyplot as plt\n",
    "import math\n",
    "from datetime import datetime\n",
    "import seaborn as sns\n",
    "import copy"
   ]
  },
  {
   "cell_type": "markdown",
   "metadata": {},
   "source": [
    "###Read Cleaned File"
   ]
  },
  {
   "cell_type": "code",
   "execution_count": 2,
   "metadata": {},
   "outputs": [
    {
     "data": {
      "text/html": [
       "<div>\n",
       "<style>\n",
       "    .dataframe thead tr:only-child th {\n",
       "        text-align: right;\n",
       "    }\n",
       "\n",
       "    .dataframe thead th {\n",
       "        text-align: left;\n",
       "    }\n",
       "\n",
       "    .dataframe tbody tr th {\n",
       "        vertical-align: top;\n",
       "    }\n",
       "</style>\n",
       "<table border=\"1\" class=\"dataframe\">\n",
       "  <thead>\n",
       "    <tr style=\"text-align: right;\">\n",
       "      <th></th>\n",
       "      <th>Code</th>\n",
       "      <th>Blood_Glucose</th>\n",
       "      <th>Patient_ID</th>\n",
       "      <th>Code_Description</th>\n",
       "      <th>Date_Time</th>\n",
       "    </tr>\n",
       "  </thead>\n",
       "  <tbody>\n",
       "    <tr>\n",
       "      <th>0</th>\n",
       "      <td>58</td>\n",
       "      <td>101.0</td>\n",
       "      <td>31</td>\n",
       "      <td>PRE_BREAKFAST</td>\n",
       "      <td>1991-05-20 08:00:00</td>\n",
       "    </tr>\n",
       "    <tr>\n",
       "      <th>1</th>\n",
       "      <td>33</td>\n",
       "      <td>5.0</td>\n",
       "      <td>31</td>\n",
       "      <td>REGULAR_INSULIN_DOSE</td>\n",
       "      <td>1991-05-20 12:00:00</td>\n",
       "    </tr>\n",
       "    <tr>\n",
       "      <th>2</th>\n",
       "      <td>34</td>\n",
       "      <td>27.0</td>\n",
       "      <td>31</td>\n",
       "      <td>NPH_INSULIN_DOSE</td>\n",
       "      <td>1991-05-20 08:00:00</td>\n",
       "    </tr>\n",
       "    <tr>\n",
       "      <th>3</th>\n",
       "      <td>60</td>\n",
       "      <td>89.0</td>\n",
       "      <td>31</td>\n",
       "      <td>PRE_LUNCH</td>\n",
       "      <td>1991-05-20 12:00:00</td>\n",
       "    </tr>\n",
       "    <tr>\n",
       "      <th>4</th>\n",
       "      <td>33</td>\n",
       "      <td>3.0</td>\n",
       "      <td>31</td>\n",
       "      <td>REGULAR_INSULIN_DOSE</td>\n",
       "      <td>1991-05-20 12:00:00</td>\n",
       "    </tr>\n",
       "  </tbody>\n",
       "</table>\n",
       "</div>"
      ],
      "text/plain": [
       "  Code  Blood_Glucose  Patient_ID      Code_Description           Date_Time\n",
       "0   58          101.0          31         PRE_BREAKFAST 1991-05-20 08:00:00\n",
       "1   33            5.0          31  REGULAR_INSULIN_DOSE 1991-05-20 12:00:00\n",
       "2   34           27.0          31      NPH_INSULIN_DOSE 1991-05-20 08:00:00\n",
       "3   60           89.0          31             PRE_LUNCH 1991-05-20 12:00:00\n",
       "4   33            3.0          31  REGULAR_INSULIN_DOSE 1991-05-20 12:00:00"
      ]
     },
     "execution_count": 2,
     "metadata": {},
     "output_type": "execute_result"
    }
   ],
   "source": [
    "df = pd.DataFrame([]) # defining a dataframe\n",
    "df = pd.read_csv('../Data/Cleaned/data.csv')\n",
    "\n",
    "df['Code'] = df['Code'].astype('category')\n",
    "\n",
    "df['Date_Time'] = pd.to_datetime(df['Date_Time'].str.strip(), \n",
    "                                 format=\"%Y-%m-%d %H:%M:%S\", errors=\"raise\")\n",
    "\n",
    "df.head()"
   ]
  },
  {
   "cell_type": "code",
   "execution_count": null,
   "metadata": {
    "collapsed": true
   },
   "outputs": [],
   "source": []
  }
 ],
 "metadata": {
  "kernelspec": {
   "display_name": "Python 3",
   "language": "python",
   "name": "python3"
  },
  "language_info": {
   "codemirror_mode": {
    "name": "ipython",
    "version": 3
   },
   "file_extension": ".py",
   "mimetype": "text/x-python",
   "name": "python",
   "nbconvert_exporter": "python",
   "pygments_lexer": "ipython3",
   "version": "3.6.3"
  }
 },
 "nbformat": 4,
 "nbformat_minor": 2
}
