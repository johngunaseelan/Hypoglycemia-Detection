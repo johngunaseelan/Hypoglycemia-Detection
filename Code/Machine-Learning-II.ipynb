{
 "cells": [
  {
   "cell_type": "markdown",
   "metadata": {},
   "source": [
    "<H1 style=\"text-align: center;\">Hypoglycemia Detection</H1>\n",
    "<H3 style=\"text-align: center;\">Machine Learning</H3>\n",
    "###Imports"
   ]
  },
  {
   "cell_type": "code",
   "execution_count": 489,
   "metadata": {},
   "outputs": [],
   "source": [
    "import pandas as pd\n",
    "import numpy as np\n",
    "import matplotlib.pyplot as plt\n",
    "import math\n",
    "from datetime import datetime\n",
    "import seaborn as sns\n",
    "import copy\n",
    "from sklearn.preprocessing import StandardScaler\n",
    "from sklearn.pipeline import Pipeline\n",
    "from sklearn.tree import DecisionTreeClassifier\n",
    "from sklearn.model_selection import GridSearchCV\n",
    "from sklearn.model_selection import train_test_split\n",
    "from sklearn.linear_model import LogisticRegression\n",
    "from sklearn.neighbors import KNeighborsClassifier\n",
    "from datetime import datetime, timedelta\n",
    "from sklearn.ensemble import RandomForestClassifier"
   ]
  },
  {
   "cell_type": "code",
   "execution_count": 506,
   "metadata": {},
   "outputs": [
    {
     "data": {
      "text/html": [
       "<div>\n",
       "<style>\n",
       "    .dataframe thead tr:only-child th {\n",
       "        text-align: right;\n",
       "    }\n",
       "\n",
       "    .dataframe thead th {\n",
       "        text-align: left;\n",
       "    }\n",
       "\n",
       "    .dataframe tbody tr th {\n",
       "        vertical-align: top;\n",
       "    }\n",
       "</style>\n",
       "<table border=\"1\" class=\"dataframe\">\n",
       "  <thead>\n",
       "    <tr style=\"text-align: right;\">\n",
       "      <th></th>\n",
       "      <th>Code</th>\n",
       "      <th>Blood_Glucose</th>\n",
       "      <th>Patient_ID</th>\n",
       "      <th>Code_Description</th>\n",
       "      <th>Date_Time</th>\n",
       "      <th>Time</th>\n",
       "    </tr>\n",
       "  </thead>\n",
       "  <tbody>\n",
       "    <tr>\n",
       "      <th>0</th>\n",
       "      <td>58</td>\n",
       "      <td>101.0</td>\n",
       "      <td>31</td>\n",
       "      <td>PRE_BREAKFAST</td>\n",
       "      <td>1991-05-20 08:00:00</td>\n",
       "      <td>08:00:00</td>\n",
       "    </tr>\n",
       "    <tr>\n",
       "      <th>1</th>\n",
       "      <td>33</td>\n",
       "      <td>5.0</td>\n",
       "      <td>31</td>\n",
       "      <td>REGULAR_INSULIN_DOSE</td>\n",
       "      <td>1991-05-20 12:00:00</td>\n",
       "      <td>12:00:00</td>\n",
       "    </tr>\n",
       "    <tr>\n",
       "      <th>2</th>\n",
       "      <td>34</td>\n",
       "      <td>27.0</td>\n",
       "      <td>31</td>\n",
       "      <td>NPH_INSULIN_DOSE</td>\n",
       "      <td>1991-05-20 08:00:00</td>\n",
       "      <td>08:00:00</td>\n",
       "    </tr>\n",
       "    <tr>\n",
       "      <th>3</th>\n",
       "      <td>60</td>\n",
       "      <td>89.0</td>\n",
       "      <td>31</td>\n",
       "      <td>PRE_LUNCH</td>\n",
       "      <td>1991-05-20 12:00:00</td>\n",
       "      <td>12:00:00</td>\n",
       "    </tr>\n",
       "    <tr>\n",
       "      <th>4</th>\n",
       "      <td>33</td>\n",
       "      <td>3.0</td>\n",
       "      <td>31</td>\n",
       "      <td>REGULAR_INSULIN_DOSE</td>\n",
       "      <td>1991-05-20 12:00:00</td>\n",
       "      <td>12:00:00</td>\n",
       "    </tr>\n",
       "  </tbody>\n",
       "</table>\n",
       "</div>"
      ],
      "text/plain": [
       "  Code  Blood_Glucose  Patient_ID      Code_Description           Date_Time  \\\n",
       "0   58          101.0          31         PRE_BREAKFAST 1991-05-20 08:00:00   \n",
       "1   33            5.0          31  REGULAR_INSULIN_DOSE 1991-05-20 12:00:00   \n",
       "2   34           27.0          31      NPH_INSULIN_DOSE 1991-05-20 08:00:00   \n",
       "3   60           89.0          31             PRE_LUNCH 1991-05-20 12:00:00   \n",
       "4   33            3.0          31  REGULAR_INSULIN_DOSE 1991-05-20 12:00:00   \n",
       "\n",
       "       Time  \n",
       "0  08:00:00  \n",
       "1  12:00:00  \n",
       "2  08:00:00  \n",
       "3  12:00:00  \n",
       "4  12:00:00  "
      ]
     },
     "execution_count": 506,
     "metadata": {},
     "output_type": "execute_result"
    }
   ],
   "source": [
    "df = pd.DataFrame([]) # defining a dataframe\n",
    "df = pd.read_csv('../Data/Cleaned/data.csv')\n",
    "\n",
    "df['Code'] = df['Code'].astype('category')\n",
    "\n",
    "df['Date_Time'] = pd.to_datetime(df['Date_Time'].str.strip(), \n",
    "                                 format=\"%Y-%m-%d %H:%M:%S\", errors=\"raise\")\n",
    "\n",
    "df['Time'] = df['Date_Time'].dt.time\n",
    "\n",
    "df.head()"
   ]
  },
  {
   "cell_type": "code",
   "execution_count": 507,
   "metadata": {},
   "outputs": [],
   "source": [
    "df_agg=pd.DataFrame()\n",
    "\n",
    "for i in range(1, 70):\n",
    "    x = df.loc[df['Patient_ID']==i,['Blood_Glucose','Date_Time']].set_index('Date_Time').resample('240T').mean().reset_index()\n",
    "    x['Time'] = x['Date_Time'].dt.time\n",
    "    x = x.groupby('Time').agg(np.std).reset_index()\n",
    "    x['Patient_ID'] = i\n",
    "    x['Hypo_Flag'] = df.loc[(df['Patient_ID']==i) & (df['Code_Description']=='HYPOGLYCEMIC_SYMPTOMS')].any().count()>0\n",
    "    df_agg = df_agg.append(x)"
   ]
  },
  {
   "cell_type": "code",
   "execution_count": null,
   "metadata": {},
   "outputs": [],
   "source": []
  },
  {
   "cell_type": "code",
   "execution_count": 508,
   "metadata": {},
   "outputs": [
    {
     "data": {
      "text/html": [
       "<div>\n",
       "<style>\n",
       "    .dataframe thead tr:only-child th {\n",
       "        text-align: right;\n",
       "    }\n",
       "\n",
       "    .dataframe thead th {\n",
       "        text-align: left;\n",
       "    }\n",
       "\n",
       "    .dataframe tbody tr th {\n",
       "        vertical-align: top;\n",
       "    }\n",
       "</style>\n",
       "<table border=\"1\" class=\"dataframe\">\n",
       "  <thead>\n",
       "    <tr style=\"text-align: right;\">\n",
       "      <th></th>\n",
       "      <th>Time</th>\n",
       "      <th>Blood_Glucose</th>\n",
       "      <th>Patient_ID</th>\n",
       "      <th>Hypo_Flag</th>\n",
       "    </tr>\n",
       "  </thead>\n",
       "  <tbody>\n",
       "    <tr>\n",
       "      <th>0</th>\n",
       "      <td>00:00:00</td>\n",
       "      <td>67.783333</td>\n",
       "      <td>1</td>\n",
       "      <td>True</td>\n",
       "    </tr>\n",
       "    <tr>\n",
       "      <th>1</th>\n",
       "      <td>04:00:00</td>\n",
       "      <td>38.121757</td>\n",
       "      <td>1</td>\n",
       "      <td>True</td>\n",
       "    </tr>\n",
       "    <tr>\n",
       "      <th>2</th>\n",
       "      <td>08:00:00</td>\n",
       "      <td>67.783333</td>\n",
       "      <td>1</td>\n",
       "      <td>True</td>\n",
       "    </tr>\n",
       "    <tr>\n",
       "      <th>3</th>\n",
       "      <td>12:00:00</td>\n",
       "      <td>19.563280</td>\n",
       "      <td>1</td>\n",
       "      <td>True</td>\n",
       "    </tr>\n",
       "    <tr>\n",
       "      <th>4</th>\n",
       "      <td>16:00:00</td>\n",
       "      <td>65.874422</td>\n",
       "      <td>1</td>\n",
       "      <td>True</td>\n",
       "    </tr>\n",
       "  </tbody>\n",
       "</table>\n",
       "</div>"
      ],
      "text/plain": [
       "       Time  Blood_Glucose  Patient_ID  Hypo_Flag\n",
       "0  00:00:00      67.783333           1       True\n",
       "1  04:00:00      38.121757           1       True\n",
       "2  08:00:00      67.783333           1       True\n",
       "3  12:00:00      19.563280           1       True\n",
       "4  16:00:00      65.874422           1       True"
      ]
     },
     "execution_count": 508,
     "metadata": {},
     "output_type": "execute_result"
    }
   ],
   "source": [
    "for i in range(1, 70):\n",
    "    df_agg.loc[df_agg['Patient_ID']==i] = df_agg.loc[df_agg['Patient_ID']==i].fillna(df.loc[(df['Patient_ID']==i),'Blood_Glucose'].mean())\n",
    "    \n",
    "df_agg.head()"
   ]
  },
  {
   "cell_type": "code",
   "execution_count": 509,
   "metadata": {},
   "outputs": [],
   "source": [
    "df_pivot = pd.pivot_table(df_agg, values='Blood_Glucose', index='Patient_ID',\n",
    "                     columns=['Time'])"
   ]
  },
  {
   "cell_type": "code",
   "execution_count": 510,
   "metadata": {},
   "outputs": [
    {
     "data": {
      "text/html": [
       "<div>\n",
       "<style>\n",
       "    .dataframe thead tr:only-child th {\n",
       "        text-align: right;\n",
       "    }\n",
       "\n",
       "    .dataframe thead th {\n",
       "        text-align: left;\n",
       "    }\n",
       "\n",
       "    .dataframe tbody tr th {\n",
       "        vertical-align: top;\n",
       "    }\n",
       "</style>\n",
       "<table border=\"1\" class=\"dataframe\">\n",
       "  <thead>\n",
       "    <tr style=\"text-align: right;\">\n",
       "      <th>Time</th>\n",
       "      <th>00:00:00</th>\n",
       "      <th>04:00:00</th>\n",
       "      <th>08:00:00</th>\n",
       "      <th>12:00:00</th>\n",
       "      <th>16:00:00</th>\n",
       "      <th>20:00:00</th>\n",
       "    </tr>\n",
       "    <tr>\n",
       "      <th>Patient_ID</th>\n",
       "      <th></th>\n",
       "      <th></th>\n",
       "      <th></th>\n",
       "      <th></th>\n",
       "      <th></th>\n",
       "      <th></th>\n",
       "    </tr>\n",
       "  </thead>\n",
       "  <tbody>\n",
       "    <tr>\n",
       "      <th>1</th>\n",
       "      <td>67.783333</td>\n",
       "      <td>38.121757</td>\n",
       "      <td>67.783333</td>\n",
       "      <td>19.563280</td>\n",
       "      <td>65.874422</td>\n",
       "      <td>71.848756</td>\n",
       "    </tr>\n",
       "    <tr>\n",
       "      <th>2</th>\n",
       "      <td>100.045205</td>\n",
       "      <td>100.045205</td>\n",
       "      <td>63.285022</td>\n",
       "      <td>20.102470</td>\n",
       "      <td>75.986572</td>\n",
       "      <td>75.114214</td>\n",
       "    </tr>\n",
       "    <tr>\n",
       "      <th>3</th>\n",
       "      <td>70.313793</td>\n",
       "      <td>28.457325</td>\n",
       "      <td>23.522843</td>\n",
       "      <td>70.313793</td>\n",
       "      <td>55.974488</td>\n",
       "      <td>47.610959</td>\n",
       "    </tr>\n",
       "    <tr>\n",
       "      <th>4</th>\n",
       "      <td>82.479310</td>\n",
       "      <td>71.566297</td>\n",
       "      <td>24.863708</td>\n",
       "      <td>82.479310</td>\n",
       "      <td>38.969463</td>\n",
       "      <td>59.927845</td>\n",
       "    </tr>\n",
       "    <tr>\n",
       "      <th>5</th>\n",
       "      <td>85.882759</td>\n",
       "      <td>64.724393</td>\n",
       "      <td>22.641079</td>\n",
       "      <td>85.882759</td>\n",
       "      <td>67.988387</td>\n",
       "      <td>54.814814</td>\n",
       "    </tr>\n",
       "  </tbody>\n",
       "</table>\n",
       "</div>"
      ],
      "text/plain": [
       "Time          00:00:00    04:00:00   08:00:00   12:00:00   16:00:00   20:00:00\n",
       "Patient_ID                                                                    \n",
       "1            67.783333   38.121757  67.783333  19.563280  65.874422  71.848756\n",
       "2           100.045205  100.045205  63.285022  20.102470  75.986572  75.114214\n",
       "3            70.313793   28.457325  23.522843  70.313793  55.974488  47.610959\n",
       "4            82.479310   71.566297  24.863708  82.479310  38.969463  59.927845\n",
       "5            85.882759   64.724393  22.641079  85.882759  67.988387  54.814814"
      ]
     },
     "execution_count": 510,
     "metadata": {},
     "output_type": "execute_result"
    }
   ],
   "source": [
    "df_pivot.head()"
   ]
  },
  {
   "cell_type": "code",
   "execution_count": 511,
   "metadata": {},
   "outputs": [],
   "source": [
    "df_pivot['Hypo_Flag'] = df.groupby('Patient_ID').agg(lambda row : (row['Code_Description']=='HYPOGLYCEMIC_SYMPTOMS').any()).any(axis=1)"
   ]
  },
  {
   "cell_type": "code",
   "execution_count": 512,
   "metadata": {},
   "outputs": [
    {
     "data": {
      "text/html": [
       "<div>\n",
       "<style>\n",
       "    .dataframe thead tr:only-child th {\n",
       "        text-align: right;\n",
       "    }\n",
       "\n",
       "    .dataframe thead th {\n",
       "        text-align: left;\n",
       "    }\n",
       "\n",
       "    .dataframe tbody tr th {\n",
       "        vertical-align: top;\n",
       "    }\n",
       "</style>\n",
       "<table border=\"1\" class=\"dataframe\">\n",
       "  <thead>\n",
       "    <tr style=\"text-align: right;\">\n",
       "      <th>Time</th>\n",
       "      <th>00:00:00</th>\n",
       "      <th>04:00:00</th>\n",
       "      <th>08:00:00</th>\n",
       "      <th>12:00:00</th>\n",
       "      <th>16:00:00</th>\n",
       "      <th>20:00:00</th>\n",
       "      <th>Hypo_Flag</th>\n",
       "    </tr>\n",
       "    <tr>\n",
       "      <th>Patient_ID</th>\n",
       "      <th></th>\n",
       "      <th></th>\n",
       "      <th></th>\n",
       "      <th></th>\n",
       "      <th></th>\n",
       "      <th></th>\n",
       "      <th></th>\n",
       "    </tr>\n",
       "  </thead>\n",
       "  <tbody>\n",
       "    <tr>\n",
       "      <th>1</th>\n",
       "      <td>67.783333</td>\n",
       "      <td>38.121757</td>\n",
       "      <td>67.783333</td>\n",
       "      <td>19.563280</td>\n",
       "      <td>65.874422</td>\n",
       "      <td>71.848756</td>\n",
       "      <td>True</td>\n",
       "    </tr>\n",
       "    <tr>\n",
       "      <th>2</th>\n",
       "      <td>100.045205</td>\n",
       "      <td>100.045205</td>\n",
       "      <td>63.285022</td>\n",
       "      <td>20.102470</td>\n",
       "      <td>75.986572</td>\n",
       "      <td>75.114214</td>\n",
       "      <td>False</td>\n",
       "    </tr>\n",
       "    <tr>\n",
       "      <th>3</th>\n",
       "      <td>70.313793</td>\n",
       "      <td>28.457325</td>\n",
       "      <td>23.522843</td>\n",
       "      <td>70.313793</td>\n",
       "      <td>55.974488</td>\n",
       "      <td>47.610959</td>\n",
       "      <td>True</td>\n",
       "    </tr>\n",
       "    <tr>\n",
       "      <th>4</th>\n",
       "      <td>82.479310</td>\n",
       "      <td>71.566297</td>\n",
       "      <td>24.863708</td>\n",
       "      <td>82.479310</td>\n",
       "      <td>38.969463</td>\n",
       "      <td>59.927845</td>\n",
       "      <td>True</td>\n",
       "    </tr>\n",
       "    <tr>\n",
       "      <th>5</th>\n",
       "      <td>85.882759</td>\n",
       "      <td>64.724393</td>\n",
       "      <td>22.641079</td>\n",
       "      <td>85.882759</td>\n",
       "      <td>67.988387</td>\n",
       "      <td>54.814814</td>\n",
       "      <td>False</td>\n",
       "    </tr>\n",
       "  </tbody>\n",
       "</table>\n",
       "</div>"
      ],
      "text/plain": [
       "Time          00:00:00    04:00:00   08:00:00   12:00:00   16:00:00  \\\n",
       "Patient_ID                                                            \n",
       "1            67.783333   38.121757  67.783333  19.563280  65.874422   \n",
       "2           100.045205  100.045205  63.285022  20.102470  75.986572   \n",
       "3            70.313793   28.457325  23.522843  70.313793  55.974488   \n",
       "4            82.479310   71.566297  24.863708  82.479310  38.969463   \n",
       "5            85.882759   64.724393  22.641079  85.882759  67.988387   \n",
       "\n",
       "Time         20:00:00  Hypo_Flag  \n",
       "Patient_ID                        \n",
       "1           71.848756       True  \n",
       "2           75.114214      False  \n",
       "3           47.610959       True  \n",
       "4           59.927845       True  \n",
       "5           54.814814      False  "
      ]
     },
     "execution_count": 512,
     "metadata": {},
     "output_type": "execute_result"
    }
   ],
   "source": [
    "df_pivot.head()"
   ]
  },
  {
   "cell_type": "code",
   "execution_count": 156,
   "metadata": {},
   "outputs": [],
   "source": []
  },
  {
   "cell_type": "code",
   "execution_count": 157,
   "metadata": {},
   "outputs": [
    {
     "name": "stdout",
     "output_type": "stream",
     "text": [
      "Best score is 0.7291666666666666\n"
     ]
    }
   ],
   "source": []
  },
  {
   "cell_type": "code",
   "execution_count": 301,
   "metadata": {},
   "outputs": [
    {
     "name": "stdout",
     "output_type": "stream",
     "text": [
      "Tuned Logistic Regression Parameter: {'C': 3.7275937203149381, 'penalty': 'l1'}\n",
      "Tuned Logistic Regression Accuracy: 0.6829268292682927\n"
     ]
    }
   ],
   "source": [
    "scaler = StandardScaler()\n",
    "logreg = LogisticRegression()\n",
    "c_space = np.logspace(-5, 8, 15)\n",
    "param_grid = {'C': c_space, 'penalty': ['l1', 'l2']}\n",
    "\n",
    "# Instantiate the GridSearchCV object: logreg_cv\n",
    "logreg_cv = GridSearchCV(logreg, param_grid, cv=5 )\n",
    "\n",
    "# Fit it to the training data\n",
    "logreg_cv.fit(X_train, y_train)\n",
    "\n",
    "# Print the optimal parameters and best score\n",
    "print(\"Tuned Logistic Regression Parameter: {}\".format(logreg_cv.best_params_))\n",
    "print(\"Tuned Logistic Regression Accuracy: {}\".format(logreg_cv.best_score_))"
   ]
  },
  {
   "cell_type": "code",
   "execution_count": 302,
   "metadata": {},
   "outputs": [
    {
     "data": {
      "text/plain": [
       "0.5357142857142857"
      ]
     },
     "execution_count": 302,
     "metadata": {},
     "output_type": "execute_result"
    }
   ],
   "source": [
    "logreg_cv.predict(X_test)\n",
    "\n",
    "logreg_cv.score(X_test, y_test)"
   ]
  },
  {
   "cell_type": "code",
   "execution_count": 303,
   "metadata": {},
   "outputs": [
    {
     "data": {
      "text/plain": [
       "0.5357142857142857"
      ]
     },
     "execution_count": 303,
     "metadata": {},
     "output_type": "execute_result"
    }
   ],
   "source": [
    "gCV.predict(X_test)\n",
    "\n",
    "gCV.score(X_test, y_test)"
   ]
  },
  {
   "cell_type": "code",
   "execution_count": 513,
   "metadata": {},
   "outputs": [
    {
     "data": {
      "text/html": [
       "<div>\n",
       "<style>\n",
       "    .dataframe thead tr:only-child th {\n",
       "        text-align: right;\n",
       "    }\n",
       "\n",
       "    .dataframe thead th {\n",
       "        text-align: left;\n",
       "    }\n",
       "\n",
       "    .dataframe tbody tr th {\n",
       "        vertical-align: top;\n",
       "    }\n",
       "</style>\n",
       "<table border=\"1\" class=\"dataframe\">\n",
       "  <thead>\n",
       "    <tr style=\"text-align: right;\">\n",
       "      <th></th>\n",
       "      <th>exercise_perday</th>\n",
       "      <th>healthy_glucose_levels_perday</th>\n",
       "      <th>irregular_diet_perday</th>\n",
       "      <th>irregular_exercise_perday</th>\n",
       "      <th>irregular_perday</th>\n",
       "      <th>mean</th>\n",
       "      <th>nph_insulin_perday</th>\n",
       "      <th>snacks_perday</th>\n",
       "      <th>ultralente_insulin_perday</th>\n",
       "    </tr>\n",
       "    <tr>\n",
       "      <th>Patient_ID</th>\n",
       "      <th></th>\n",
       "      <th></th>\n",
       "      <th></th>\n",
       "      <th></th>\n",
       "      <th></th>\n",
       "      <th></th>\n",
       "      <th></th>\n",
       "      <th></th>\n",
       "      <th></th>\n",
       "    </tr>\n",
       "  </thead>\n",
       "  <tbody>\n",
       "    <tr>\n",
       "      <th>1</th>\n",
       "      <td>0.0</td>\n",
       "      <td>1.303704</td>\n",
       "      <td>0.000000</td>\n",
       "      <td>0.0</td>\n",
       "      <td>0.000000</td>\n",
       "      <td>67.783333</td>\n",
       "      <td>0.970370</td>\n",
       "      <td>0.000000</td>\n",
       "      <td>0.000000</td>\n",
       "    </tr>\n",
       "    <tr>\n",
       "      <th>2</th>\n",
       "      <td>0.0</td>\n",
       "      <td>1.421053</td>\n",
       "      <td>0.000000</td>\n",
       "      <td>0.0</td>\n",
       "      <td>0.000000</td>\n",
       "      <td>100.045205</td>\n",
       "      <td>0.021053</td>\n",
       "      <td>0.000000</td>\n",
       "      <td>0.000000</td>\n",
       "    </tr>\n",
       "    <tr>\n",
       "      <th>3</th>\n",
       "      <td>0.0</td>\n",
       "      <td>2.078947</td>\n",
       "      <td>0.263158</td>\n",
       "      <td>0.0</td>\n",
       "      <td>0.263158</td>\n",
       "      <td>70.313793</td>\n",
       "      <td>0.026316</td>\n",
       "      <td>0.394737</td>\n",
       "      <td>1.842105</td>\n",
       "    </tr>\n",
       "    <tr>\n",
       "      <th>4</th>\n",
       "      <td>0.0</td>\n",
       "      <td>1.552632</td>\n",
       "      <td>0.157895</td>\n",
       "      <td>0.0</td>\n",
       "      <td>0.157895</td>\n",
       "      <td>82.479310</td>\n",
       "      <td>1.421053</td>\n",
       "      <td>0.842105</td>\n",
       "      <td>0.473684</td>\n",
       "    </tr>\n",
       "    <tr>\n",
       "      <th>5</th>\n",
       "      <td>0.0</td>\n",
       "      <td>1.650000</td>\n",
       "      <td>0.050000</td>\n",
       "      <td>0.0</td>\n",
       "      <td>0.050000</td>\n",
       "      <td>85.882759</td>\n",
       "      <td>1.875000</td>\n",
       "      <td>0.900000</td>\n",
       "      <td>0.000000</td>\n",
       "    </tr>\n",
       "  </tbody>\n",
       "</table>\n",
       "</div>"
      ],
      "text/plain": [
       "            exercise_perday  healthy_glucose_levels_perday  \\\n",
       "Patient_ID                                                   \n",
       "1                       0.0                       1.303704   \n",
       "2                       0.0                       1.421053   \n",
       "3                       0.0                       2.078947   \n",
       "4                       0.0                       1.552632   \n",
       "5                       0.0                       1.650000   \n",
       "\n",
       "            irregular_diet_perday  irregular_exercise_perday  \\\n",
       "Patient_ID                                                     \n",
       "1                        0.000000                        0.0   \n",
       "2                        0.000000                        0.0   \n",
       "3                        0.263158                        0.0   \n",
       "4                        0.157895                        0.0   \n",
       "5                        0.050000                        0.0   \n",
       "\n",
       "            irregular_perday        mean  nph_insulin_perday  snacks_perday  \\\n",
       "Patient_ID                                                                    \n",
       "1                   0.000000   67.783333            0.970370       0.000000   \n",
       "2                   0.000000  100.045205            0.021053       0.000000   \n",
       "3                   0.263158   70.313793            0.026316       0.394737   \n",
       "4                   0.157895   82.479310            1.421053       0.842105   \n",
       "5                   0.050000   85.882759            1.875000       0.900000   \n",
       "\n",
       "            ultralente_insulin_perday  \n",
       "Patient_ID                             \n",
       "1                            0.000000  \n",
       "2                            0.000000  \n",
       "3                            1.842105  \n",
       "4                            0.473684  \n",
       "5                            0.000000  "
      ]
     },
     "execution_count": 513,
     "metadata": {},
     "output_type": "execute_result"
    }
   ],
   "source": [
    "group_df = df.groupby('Patient_ID')\n",
    "\n",
    "df_agg_cat = pd.DataFrame({\n",
    "    \n",
    "    \n",
    "    'exercise_perday' : group_df.apply(\n",
    "        lambda group : group[(group['Code_Description']=='TYPICAL_EXERCISE')]['Code_Description'].count()\n",
    "        /((group.Date_Time.max() - group.Date_Time.min()).days)),\n",
    "    'irregular_diet_perday' : group_df.apply(\n",
    "        lambda group : group[(group['Code_Description']=='MORE_MEAL_INJESTION') |\n",
    "                            (group['Code_Description']=='LESS_MEAL_INJESTION')]['Code_Description'].count()\n",
    "        /((group.Date_Time.max() - group.Date_Time.min()).days)),\n",
    "    'irregular_exercise_perday' : group_df.apply(\n",
    "        lambda group : group[(group['Code_Description']=='LESS_EXERCISE') |\n",
    "                            (group['Code_Description']=='MORE_EXERCISE')]['Code_Description'].count()\n",
    "        /((group.Date_Time.max() - group.Date_Time.min()).days)),\n",
    "    \n",
    "    'snacks_perday' : group_df.apply(lambda group : group[group['Code_Description']=='PRE_SNACK']['Code_Description'].count()\n",
    "                                    /(group.Date_Time.max() - group.Date_Time.min()).days),\n",
    "    'nph_insulin_perday' : group_df.apply(lambda group : group[group['Code_Description']=='NPH_INSULIN_DOSE']['Code_Description'].count()\n",
    "                                    /(group.Date_Time.max() - group.Date_Time.min()).days),\n",
    "    'ultralente_insulin_perday' : group_df.apply(lambda group : group[group['Code_Description']=='ULTRALENTE_INSULIN_DOSE']['Code_Description'].count()\n",
    "                                    /(group.Date_Time.max() - group.Date_Time.min()).days),\n",
    "    'healthy_glucose_levels_perday' : group_df.apply(lambda group : group[(group['Blood_Glucose']>=80) & (group['Blood_Glucose']<=180)]['Code_Description'].count()\n",
    "                                                     /(group.Date_Time.max() - group.Date_Time.min()).days),\n",
    "    'mean' : group_df['Blood_Glucose'].mean(),\n",
    "    'irregular_perday' : group_df.apply(\n",
    "        lambda group : group[(group['Code_Description']=='LESS_EXERCISE') |\n",
    "                            (group['Code_Description']=='MORE_EXERCISE') |\n",
    "                            (group['Code_Description']=='MORE_MEAL_INJESTION') |\n",
    "                            (group['Code_Description']=='LESS_MEAL_INJESTION')]['Code_Description'].count()\n",
    "        /((group.Date_Time.max() - group.Date_Time.min()).days))\n",
    "})\n",
    "\n",
    "#df_agg2.loc[df_agg['postmeal_median_bg'].isnull(), 'postmeal_median_bg'] = df_agg.loc[df_agg['postmeal_median_bg'].isnull(), 'median']\n",
    "\n",
    "df_agg_cat.head()"
   ]
  },
  {
   "cell_type": "code",
   "execution_count": 514,
   "metadata": {},
   "outputs": [],
   "source": [
    "df_pivot = df_pivot.join(df_agg_cat, how='inner')"
   ]
  },
  {
   "cell_type": "code",
   "execution_count": 515,
   "metadata": {},
   "outputs": [
    {
     "data": {
      "text/html": [
       "<div>\n",
       "<style>\n",
       "    .dataframe thead tr:only-child th {\n",
       "        text-align: right;\n",
       "    }\n",
       "\n",
       "    .dataframe thead th {\n",
       "        text-align: left;\n",
       "    }\n",
       "\n",
       "    .dataframe tbody tr th {\n",
       "        vertical-align: top;\n",
       "    }\n",
       "</style>\n",
       "<table border=\"1\" class=\"dataframe\">\n",
       "  <thead>\n",
       "    <tr style=\"text-align: right;\">\n",
       "      <th></th>\n",
       "      <th>00:00:00</th>\n",
       "      <th>04:00:00</th>\n",
       "      <th>08:00:00</th>\n",
       "      <th>12:00:00</th>\n",
       "      <th>16:00:00</th>\n",
       "      <th>20:00:00</th>\n",
       "      <th>Hypo_Flag</th>\n",
       "      <th>exercise_perday</th>\n",
       "      <th>healthy_glucose_levels_perday</th>\n",
       "      <th>irregular_diet_perday</th>\n",
       "      <th>irregular_exercise_perday</th>\n",
       "      <th>irregular_perday</th>\n",
       "      <th>mean</th>\n",
       "      <th>nph_insulin_perday</th>\n",
       "      <th>snacks_perday</th>\n",
       "      <th>ultralente_insulin_perday</th>\n",
       "    </tr>\n",
       "    <tr>\n",
       "      <th>Patient_ID</th>\n",
       "      <th></th>\n",
       "      <th></th>\n",
       "      <th></th>\n",
       "      <th></th>\n",
       "      <th></th>\n",
       "      <th></th>\n",
       "      <th></th>\n",
       "      <th></th>\n",
       "      <th></th>\n",
       "      <th></th>\n",
       "      <th></th>\n",
       "      <th></th>\n",
       "      <th></th>\n",
       "      <th></th>\n",
       "      <th></th>\n",
       "      <th></th>\n",
       "    </tr>\n",
       "  </thead>\n",
       "  <tbody>\n",
       "    <tr>\n",
       "      <th>1</th>\n",
       "      <td>67.783333</td>\n",
       "      <td>38.121757</td>\n",
       "      <td>67.783333</td>\n",
       "      <td>19.563280</td>\n",
       "      <td>65.874422</td>\n",
       "      <td>71.848756</td>\n",
       "      <td>True</td>\n",
       "      <td>0.0</td>\n",
       "      <td>1.303704</td>\n",
       "      <td>0.000000</td>\n",
       "      <td>0.0</td>\n",
       "      <td>0.000000</td>\n",
       "      <td>67.783333</td>\n",
       "      <td>0.970370</td>\n",
       "      <td>0.000000</td>\n",
       "      <td>0.000000</td>\n",
       "    </tr>\n",
       "    <tr>\n",
       "      <th>2</th>\n",
       "      <td>100.045205</td>\n",
       "      <td>100.045205</td>\n",
       "      <td>63.285022</td>\n",
       "      <td>20.102470</td>\n",
       "      <td>75.986572</td>\n",
       "      <td>75.114214</td>\n",
       "      <td>False</td>\n",
       "      <td>0.0</td>\n",
       "      <td>1.421053</td>\n",
       "      <td>0.000000</td>\n",
       "      <td>0.0</td>\n",
       "      <td>0.000000</td>\n",
       "      <td>100.045205</td>\n",
       "      <td>0.021053</td>\n",
       "      <td>0.000000</td>\n",
       "      <td>0.000000</td>\n",
       "    </tr>\n",
       "    <tr>\n",
       "      <th>3</th>\n",
       "      <td>70.313793</td>\n",
       "      <td>28.457325</td>\n",
       "      <td>23.522843</td>\n",
       "      <td>70.313793</td>\n",
       "      <td>55.974488</td>\n",
       "      <td>47.610959</td>\n",
       "      <td>True</td>\n",
       "      <td>0.0</td>\n",
       "      <td>2.078947</td>\n",
       "      <td>0.263158</td>\n",
       "      <td>0.0</td>\n",
       "      <td>0.263158</td>\n",
       "      <td>70.313793</td>\n",
       "      <td>0.026316</td>\n",
       "      <td>0.394737</td>\n",
       "      <td>1.842105</td>\n",
       "    </tr>\n",
       "    <tr>\n",
       "      <th>4</th>\n",
       "      <td>82.479310</td>\n",
       "      <td>71.566297</td>\n",
       "      <td>24.863708</td>\n",
       "      <td>82.479310</td>\n",
       "      <td>38.969463</td>\n",
       "      <td>59.927845</td>\n",
       "      <td>True</td>\n",
       "      <td>0.0</td>\n",
       "      <td>1.552632</td>\n",
       "      <td>0.157895</td>\n",
       "      <td>0.0</td>\n",
       "      <td>0.157895</td>\n",
       "      <td>82.479310</td>\n",
       "      <td>1.421053</td>\n",
       "      <td>0.842105</td>\n",
       "      <td>0.473684</td>\n",
       "    </tr>\n",
       "    <tr>\n",
       "      <th>5</th>\n",
       "      <td>85.882759</td>\n",
       "      <td>64.724393</td>\n",
       "      <td>22.641079</td>\n",
       "      <td>85.882759</td>\n",
       "      <td>67.988387</td>\n",
       "      <td>54.814814</td>\n",
       "      <td>False</td>\n",
       "      <td>0.0</td>\n",
       "      <td>1.650000</td>\n",
       "      <td>0.050000</td>\n",
       "      <td>0.0</td>\n",
       "      <td>0.050000</td>\n",
       "      <td>85.882759</td>\n",
       "      <td>1.875000</td>\n",
       "      <td>0.900000</td>\n",
       "      <td>0.000000</td>\n",
       "    </tr>\n",
       "  </tbody>\n",
       "</table>\n",
       "</div>"
      ],
      "text/plain": [
       "              00:00:00    04:00:00   08:00:00   12:00:00   16:00:00  \\\n",
       "Patient_ID                                                            \n",
       "1            67.783333   38.121757  67.783333  19.563280  65.874422   \n",
       "2           100.045205  100.045205  63.285022  20.102470  75.986572   \n",
       "3            70.313793   28.457325  23.522843  70.313793  55.974488   \n",
       "4            82.479310   71.566297  24.863708  82.479310  38.969463   \n",
       "5            85.882759   64.724393  22.641079  85.882759  67.988387   \n",
       "\n",
       "             20:00:00  Hypo_Flag  exercise_perday  \\\n",
       "Patient_ID                                          \n",
       "1           71.848756       True              0.0   \n",
       "2           75.114214      False              0.0   \n",
       "3           47.610959       True              0.0   \n",
       "4           59.927845       True              0.0   \n",
       "5           54.814814      False              0.0   \n",
       "\n",
       "            healthy_glucose_levels_perday  irregular_diet_perday  \\\n",
       "Patient_ID                                                         \n",
       "1                                1.303704               0.000000   \n",
       "2                                1.421053               0.000000   \n",
       "3                                2.078947               0.263158   \n",
       "4                                1.552632               0.157895   \n",
       "5                                1.650000               0.050000   \n",
       "\n",
       "            irregular_exercise_perday  irregular_perday        mean  \\\n",
       "Patient_ID                                                            \n",
       "1                                 0.0          0.000000   67.783333   \n",
       "2                                 0.0          0.000000  100.045205   \n",
       "3                                 0.0          0.263158   70.313793   \n",
       "4                                 0.0          0.157895   82.479310   \n",
       "5                                 0.0          0.050000   85.882759   \n",
       "\n",
       "            nph_insulin_perday  snacks_perday  ultralente_insulin_perday  \n",
       "Patient_ID                                                                \n",
       "1                     0.970370       0.000000                   0.000000  \n",
       "2                     0.021053       0.000000                   0.000000  \n",
       "3                     0.026316       0.394737                   1.842105  \n",
       "4                     1.421053       0.842105                   0.473684  \n",
       "5                     1.875000       0.900000                   0.000000  "
      ]
     },
     "execution_count": 515,
     "metadata": {},
     "output_type": "execute_result"
    }
   ],
   "source": [
    "df_pivot.head()"
   ]
  },
  {
   "cell_type": "code",
   "execution_count": 550,
   "metadata": {},
   "outputs": [],
   "source": [
    "data_array = df_pivot.values\n",
    "\n",
    "Xs = np.array(df_pivot.values[:,[1,2,3,4,5,7,8,9,10,11,13,14,15]], dtype='f')\n",
    "ys =  np.array(df_pivot.values[:,6], dtype='f')\n",
    "\n",
    "X_train, X_test,y_train,  y_test = train_test_split(Xs,ys, test_size=0.4, random_state=20)\n",
    "\n"
   ]
  },
  {
   "cell_type": "code",
   "execution_count": 551,
   "metadata": {},
   "outputs": [
    {
     "name": "stdout",
     "output_type": "stream",
     "text": [
      "Best score is 0.7804878048780488\n"
     ]
    }
   ],
   "source": [
    "scaler = StandardScaler()\n",
    "treeClassifier = DecisionTreeClassifier()\n",
    "\n",
    "param_dist = {\"max_depth\": [5, None],\n",
    "              \"criterion\": [\"gini\", \"entropy\"]}\n",
    "c_space = np.logspace(-5, 8, 15)\n",
    "param_grid = {'C': c_space, 'penalty': ['l1', 'l2']}\n",
    "\n",
    "gCV = GridSearchCV(treeClassifier , {},cv=5 )\n",
    "gCV.fit(X_train, y_train)\n",
    "\n",
    "print(\"Best score is {}\".format(gCV.best_score_))\n",
    "\n"
   ]
  },
  {
   "cell_type": "code",
   "execution_count": 552,
   "metadata": {},
   "outputs": [
    {
     "name": "stdout",
     "output_type": "stream",
     "text": [
      "Tuned Logistic Regression Parameter: {}\n",
      "Tuned Logistic Regression Accuracy: 0.7560975609756098\n"
     ]
    }
   ],
   "source": [
    "scaler = StandardScaler()\n",
    "logreg = LogisticRegression()\n",
    "c_space = np.logspace(-5, 8, 15)\n",
    "param_grid = {'C': c_space, 'penalty': ['l1', 'l2']}\n",
    "\n",
    "# Instantiate the GridSearchCV object: logreg_cv\n",
    "logreg_cv = GridSearchCV(logreg, {}, cv=5 )\n",
    "\n",
    "# Fit it to the training data\n",
    "logreg_cv.fit(X_train, y_train)\n",
    "\n",
    "# Print the optimal parameters and best score\n",
    "print(\"Tuned Logistic Regression Parameter: {}\".format(logreg_cv.best_params_))\n",
    "print(\"Tuned Logistic Regression Accuracy: {}\".format(logreg_cv.best_score_))"
   ]
  },
  {
   "cell_type": "code",
   "execution_count": 553,
   "metadata": {},
   "outputs": [
    {
     "data": {
      "text/plain": [
       "0.5714285714285714"
      ]
     },
     "execution_count": 553,
     "metadata": {},
     "output_type": "execute_result"
    }
   ],
   "source": [
    "logreg_cv.predict(X_test)\n",
    "\n",
    "logreg_cv.score(X_test, y_test)"
   ]
  },
  {
   "cell_type": "code",
   "execution_count": 554,
   "metadata": {},
   "outputs": [
    {
     "data": {
      "text/plain": [
       "0.5357142857142857"
      ]
     },
     "execution_count": 554,
     "metadata": {},
     "output_type": "execute_result"
    }
   ],
   "source": [
    "gCV.predict(X_test)\n",
    "\n",
    "gCV.score(X_test, y_test)"
   ]
  },
  {
   "cell_type": "code",
   "execution_count": 347,
   "metadata": {},
   "outputs": [
    {
     "data": {
      "text/plain": [
       "array([  1.00000000e-05,   8.48342898e-05,   7.19685673e-04,\n",
       "         6.10540230e-03,   5.17947468e-02,   4.39397056e-01,\n",
       "         3.72759372e+00,   3.16227766e+01,   2.68269580e+02,\n",
       "         2.27584593e+03,   1.93069773e+04,   1.63789371e+05,\n",
       "         1.38949549e+06,   1.17876863e+07,   1.00000000e+08])"
      ]
     },
     "execution_count": 347,
     "metadata": {},
     "output_type": "execute_result"
    }
   ],
   "source": [
    "np.logspace(-5, 8, 15)"
   ]
  },
  {
   "cell_type": "code",
   "execution_count": 555,
   "metadata": {},
   "outputs": [
    {
     "data": {
      "text/plain": [
       "0.68292682926829273"
      ]
     },
     "execution_count": 555,
     "metadata": {},
     "output_type": "execute_result"
    }
   ],
   "source": [
    "scaler = StandardScaler()\n",
    "knn = KNeighborsClassifier(n_neighbors=5)\n",
    "\n",
    "knn.fit(X_train, y_train)\n",
    "\n",
    "knn.score(X_train, y_train)"
   ]
  },
  {
   "cell_type": "code",
   "execution_count": 556,
   "metadata": {},
   "outputs": [
    {
     "data": {
      "text/plain": [
       "0.42857142857142855"
      ]
     },
     "execution_count": 556,
     "metadata": {},
     "output_type": "execute_result"
    }
   ],
   "source": [
    "knn.predict(X_test)\n",
    "\n",
    "knn.score(X_test, y_test)"
   ]
  },
  {
   "cell_type": "code",
   "execution_count": 557,
   "metadata": {},
   "outputs": [
    {
     "data": {
      "text/plain": [
       "1.0"
      ]
     },
     "execution_count": 557,
     "metadata": {},
     "output_type": "execute_result"
    }
   ],
   "source": [
    "scaler = StandardScaler()\n",
    "rfc = RandomForestClassifier()\n",
    "rf_grid =GridSearchCV(rfc, {}, cv=5 )\n",
    "rf_grid.fit(X_train, y_train)\n",
    "\n",
    "rf_grid.score(X_train, y_train)"
   ]
  },
  {
   "cell_type": "code",
   "execution_count": 558,
   "metadata": {},
   "outputs": [
    {
     "data": {
      "text/plain": [
       "0.5714285714285714"
      ]
     },
     "execution_count": 558,
     "metadata": {},
     "output_type": "execute_result"
    }
   ],
   "source": [
    "rf_grid.predict(X_test)\n",
    "\n",
    "rf_grid.score(X_test, y_test)"
   ]
  },
  {
   "cell_type": "code",
   "execution_count": null,
   "metadata": {
    "collapsed": true
   },
   "outputs": [],
   "source": []
  }
 ],
 "metadata": {
  "kernelspec": {
   "display_name": "Python 3",
   "language": "python",
   "name": "python3"
  },
  "language_info": {
   "codemirror_mode": {
    "name": "ipython",
    "version": 3
   },
   "file_extension": ".py",
   "mimetype": "text/x-python",
   "name": "python",
   "nbconvert_exporter": "python",
   "pygments_lexer": "ipython3",
   "version": "3.6.3"
  }
 },
 "nbformat": 4,
 "nbformat_minor": 2
}
