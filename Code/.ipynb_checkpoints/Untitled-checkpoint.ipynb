{
 "cells": [
  {
   "cell_type": "code",
   "execution_count": 56,
   "metadata": {
    "collapsed": true
   },
   "outputs": [],
   "source": [
    "import pandas as pd\n",
    "import numpy as np\n",
    "import glob\n",
    "import matplotlib.pyplot as plt"
   ]
  },
  {
   "cell_type": "code",
   "execution_count": 115,
   "metadata": {},
   "outputs": [
    {
     "data": {
      "image/png": "[encoded data removed]",
      "text/plain": [
       "<matplotlib.figure.Figure at 0x119836f60>"
      ]
     },
     "metadata": {},
     "output_type": "display_data"
    },
    {
     "data": {
      "text/plain": [
       "Patient_ID\n",
       "01    106\n",
       "02    171\n",
       "03     25\n",
       "04     45\n",
       "05     47\n",
       "06     32\n",
       "07     40\n",
       "08     62\n",
       "09     35\n",
       "10     52\n",
       "11     24\n",
       "12     35\n",
       "13     32\n",
       "14     20\n",
       "15     32\n",
       "16     37\n",
       "17     28\n",
       "18     29\n",
       "19     35\n",
       "20    165\n",
       "21     18\n",
       "22     45\n",
       "23     39\n",
       "24     47\n",
       "25     14\n",
       "26     54\n",
       "27     25\n",
       "28     68\n",
       "29    100\n",
       "30     89\n",
       "     ... \n",
       "41     95\n",
       "42     69\n",
       "43     38\n",
       "44     41\n",
       "45     37\n",
       "46     38\n",
       "47     22\n",
       "48     34\n",
       "49      4\n",
       "50      1\n",
       "51     21\n",
       "52     30\n",
       "53     42\n",
       "54     84\n",
       "55    125\n",
       "56    191\n",
       "57     55\n",
       "58     63\n",
       "59     67\n",
       "60     23\n",
       "61     58\n",
       "62     65\n",
       "63     68\n",
       "64     13\n",
       "65    303\n",
       "66     46\n",
       "67    236\n",
       "68      9\n",
       "69     22\n",
       "70     54\n",
       "Name: Blood_Glucose, Length: 70, dtype: int64"
      ]
     },
     "execution_count": 115,
     "metadata": {},
     "output_type": "execute_result"
    }
   ],
   "source": [
    "fileNames = glob.glob(\"../Data/d*\")\n",
    "\n",
    "df = pd.DataFrame([]) # defining a dataframe\n",
    "for i in range(len(fileNames)):\n",
    "    # you can define schema in the reading function\n",
    "    frames = pd.read_csv(fileNames[i], sep='\\t', header=None, names=['Date', 'Time',  'Code','Blood_Glucose'])\n",
    "    \n",
    "    \n",
    "    frames['Patient_ID']= fileNames[i][-2:]\n",
    "  \n",
    "    df=df.append(frames)\n",
    "\n",
    "df['Code'] = df['Code'].astype('category')\n",
    "df = df.set_index('Patient_ID')\n",
    "df['Blood_Glucose'] = pd.to_numeric(df['Blood_Glucose'], errors='coerce')\n",
    "\n",
    "df=df.dropna()\n",
    "\n",
    "df.Code.cat.categories = [\"UNKNOWN_0\",\"UNKNOWN_4\", \"REGULAR_INSULIN_DOSE_33\", \"NPH_INSULIN_DOSE_34\", \"ULTRALENTE_INSULIN_DOSE_35\", \n",
    "                          \"UNKNOWN_36\",\"UNSPECIFIED_48\", \"UNKNOWN_56\",\"UNSPECIFIED_57\", \"PRE_BREAKFAST_58\",\n",
    "                          \"POST_BREAKFAST_59\", \"PRE_LUNCH_60\",\"POST_LUNCH_61\",\"PRE_SUPPER_62\",\"POST_SUPPER_63\",\n",
    "                          \"PRE_SNACK_64\", \"HYPOGLYCEMIC_SYMPTOMS_65\", \"TYPICAL_MEAL_INJESTION_66\", \n",
    "                          \"MORE_MEAL_INJESTION_67\", \"LESS_MEAL_INJESTION_68\", \"TYPICAL_EXERCISE_69\",\n",
    "                          \"MORE_EXERCISE_70\",\"LESS_EXERCISE_71\",\"UNSPECIFIED_72\"]\n",
    "\n",
    "\n",
    "df_std_series = df.groupby(['Patient_ID'])['Blood_Glucose'].std()\n",
    "\n",
    "#df.loc[df.Code=='HYPOGLYCEMIC_SYMPTOMS_65'].groupby('Patient_ID').count()\n",
    "\n",
    "df_aggregate = pd.DataFrame({'Patient_ID':df_std_series.index, \n",
    "                             'std':df_std_series.values})\n",
    "\n",
    "df_aggregate = df_aggregate.set_index('Patient_ID')\n",
    "\n",
    "#df.Code.loc[df.Code=='HYPOGLYCEMIC_SYMPTOMS_65'].groupby('Patient_ID').count()\n",
    "\n",
    "df_aggregate['hypo_count'] = df.Code.loc[df.Code=='HYPOGLYCEMIC_SYMPTOMS_65'].groupby('Patient_ID').count()\n",
    "\n",
    "df_aggregate['median'] = df.Blood_Glucose.groupby('Patient_ID').median()\n",
    "\n",
    "df_aggregate = df_aggregate.fillna(0)\n",
    "\n",
    "df_pivot = pd.pivot_table(df, values='Blood_Glucose', index=['Patient_ID'],\n",
    "                     columns=['Code'], aggfunc='count')\n",
    "\n",
    "df_pivot = df_pivot.fillna(0)\n",
    "\n",
    "df_pivot.median = df[df.loc[:,'Blood_Glucose']>0].groupby('Patient_ID')['Blood_Glucose'].median()\n",
    "\n",
    "df_pivot.std = df[df.loc[:,'Blood_Glucose']>0].groupby('Patient_ID')['Blood_Glucose'].std()\n",
    "\n",
    "df_pivot.highs = df[df.loc[:,'Blood_Glucose']>200].groupby('Patient_ID')['Blood_Glucose'].count()\n",
    "\n",
    "df_pivot.Patient_ID = df_pivot.index;\n",
    "\n",
    "df_pivot.index = df_pivot.index.astype(str).astype(int)\n",
    "\n",
    "#type(df_pivot.Patient_ID)\n",
    "\n",
    "#df_pivot.reset_index(level=0, inplace=True)\n",
    "\n",
    "#df_pivot.plot(x='highs', y='HYPOGLYCEMIC_SYMPTOMS_65')\n",
    "\n",
    "plt.scatter(df_pivot.highs, df_pivot['HYPOGLYCEMIC_SYMPTOMS_65'] )\n",
    "\n",
    "plt.show()\n",
    "\n",
    "df_pivot.highs\n"
   ]
  },
  {
   "cell_type": "code",
   "execution_count": null,
   "metadata": {
    "collapsed": true
   },
   "outputs": [],
   "source": []
  }
 ],
 "metadata": {
  "kernelspec": {
   "display_name": "Python 3",
   "language": "python",
   "name": "python3"
  },
  "language_info": {
   "codemirror_mode": {
    "name": "ipython",
    "version": 3
   },
   "file_extension": ".py",
   "mimetype": "text/x-python",
   "name": "python",
   "nbconvert_exporter": "python",
   "pygments_lexer": "ipython3",
   "version": "3.6.3"
  }
 },
 "nbformat": 4,
 "nbformat_minor": 2
}
