{
 "cells": [
  {
   "cell_type": "markdown",
   "metadata": {},
   "source": [
    "<H1 style=\"text-align: center;\">Hypoglycemia Detection</H1>\n",
    "<H3 style=\"text-align: center;\">Machine Learning</H3>\n",
    "###Imports"
   ]
  },
  {
   "cell_type": "code",
   "execution_count": 144,
   "metadata": {
    "collapsed": true
   },
   "outputs": [],
   "source": [
    "import pandas as pd\n",
    "import numpy as np\n",
    "import matplotlib.pyplot as plt\n",
    "import math\n",
    "from datetime import datetime\n",
    "import seaborn as sns\n",
    "import copy\n",
    "from sklearn.preprocessing import StandardScaler\n",
    "from sklearn.pipeline import Pipeline\n",
    "from sklearn.tree import DecisionTreeClassifier\n",
    "from sklearn.model_selection import GridSearchCV\n",
    "from sklearn.model_selection import train_test_split\n",
    "from sklearn.linear_model import LogisticRegression\n",
    "from datetime import datetime, timedelta"
   ]
  },
  {
   "cell_type": "markdown",
   "metadata": {},
   "source": [
    "###Read Cleaned File"
   ]
  },
  {
   "cell_type": "code",
   "execution_count": 34,
   "metadata": {},
   "outputs": [
    {
     "data": {
      "text/html": [
       "<div>\n",
       "<style>\n",
       "    .dataframe thead tr:only-child th {\n",
       "        text-align: right;\n",
       "    }\n",
       "\n",
       "    .dataframe thead th {\n",
       "        text-align: left;\n",
       "    }\n",
       "\n",
       "    .dataframe tbody tr th {\n",
       "        vertical-align: top;\n",
       "    }\n",
       "</style>\n",
       "<table border=\"1\" class=\"dataframe\">\n",
       "  <thead>\n",
       "    <tr style=\"text-align: right;\">\n",
       "      <th></th>\n",
       "      <th>Code</th>\n",
       "      <th>Blood_Glucose</th>\n",
       "      <th>Patient_ID</th>\n",
       "      <th>Code_Description</th>\n",
       "      <th>Date_Time</th>\n",
       "    </tr>\n",
       "  </thead>\n",
       "  <tbody>\n",
       "    <tr>\n",
       "      <th>0</th>\n",
       "      <td>58</td>\n",
       "      <td>101.0</td>\n",
       "      <td>31</td>\n",
       "      <td>PRE_BREAKFAST</td>\n",
       "      <td>1991-05-20 08:00:00</td>\n",
       "    </tr>\n",
       "    <tr>\n",
       "      <th>1</th>\n",
       "      <td>33</td>\n",
       "      <td>5.0</td>\n",
       "      <td>31</td>\n",
       "      <td>REGULAR_INSULIN_DOSE</td>\n",
       "      <td>1991-05-20 12:00:00</td>\n",
       "    </tr>\n",
       "    <tr>\n",
       "      <th>2</th>\n",
       "      <td>34</td>\n",
       "      <td>27.0</td>\n",
       "      <td>31</td>\n",
       "      <td>NPH_INSULIN_DOSE</td>\n",
       "      <td>1991-05-20 08:00:00</td>\n",
       "    </tr>\n",
       "    <tr>\n",
       "      <th>3</th>\n",
       "      <td>60</td>\n",
       "      <td>89.0</td>\n",
       "      <td>31</td>\n",
       "      <td>PRE_LUNCH</td>\n",
       "      <td>1991-05-20 12:00:00</td>\n",
       "    </tr>\n",
       "    <tr>\n",
       "      <th>4</th>\n",
       "      <td>33</td>\n",
       "      <td>3.0</td>\n",
       "      <td>31</td>\n",
       "      <td>REGULAR_INSULIN_DOSE</td>\n",
       "      <td>1991-05-20 12:00:00</td>\n",
       "    </tr>\n",
       "  </tbody>\n",
       "</table>\n",
       "</div>"
      ],
      "text/plain": [
       "  Code  Blood_Glucose  Patient_ID      Code_Description           Date_Time\n",
       "0   58          101.0          31         PRE_BREAKFAST 1991-05-20 08:00:00\n",
       "1   33            5.0          31  REGULAR_INSULIN_DOSE 1991-05-20 12:00:00\n",
       "2   34           27.0          31      NPH_INSULIN_DOSE 1991-05-20 08:00:00\n",
       "3   60           89.0          31             PRE_LUNCH 1991-05-20 12:00:00\n",
       "4   33            3.0          31  REGULAR_INSULIN_DOSE 1991-05-20 12:00:00"
      ]
     },
     "execution_count": 34,
     "metadata": {},
     "output_type": "execute_result"
    }
   ],
   "source": [
    "df = pd.DataFrame([]) # defining a dataframe\n",
    "df = pd.read_csv('../Data/Cleaned/data.csv')\n",
    "\n",
    "df['Code'] = df['Code'].astype('category')\n",
    "\n",
    "df['Date_Time'] = pd.to_datetime(df['Date_Time'].str.strip(), \n",
    "                                 format=\"%Y-%m-%d %H:%M:%S\", errors=\"raise\")\n",
    "\n",
    "df.head()"
   ]
  },
  {
   "cell_type": "code",
   "execution_count": 35,
   "metadata": {},
   "outputs": [],
   "source": [
    "df_pivot = pd.pivot_table(df, values='Blood_Glucose', index='Patient_ID',\n",
    "                     columns=['Code_Description'], aggfunc=np.median)"
   ]
  },
  {
   "cell_type": "code",
   "execution_count": 36,
   "metadata": {},
   "outputs": [],
   "source": [
    "df_pivot['Hypo_Flag'] = df_pivot['HYPOGLYCEMIC_SYMPTOMS'].notnull()\n",
    "df_pivot = df_pivot.drop(['HYPOGLYCEMIC_SYMPTOMS'], axis=1)"
   ]
  },
  {
   "cell_type": "code",
   "execution_count": 37,
   "metadata": {},
   "outputs": [
    {
     "data": {
      "text/html": [
       "<div>\n",
       "<style>\n",
       "    .dataframe thead tr:only-child th {\n",
       "        text-align: right;\n",
       "    }\n",
       "\n",
       "    .dataframe thead th {\n",
       "        text-align: left;\n",
       "    }\n",
       "\n",
       "    .dataframe tbody tr th {\n",
       "        vertical-align: top;\n",
       "    }\n",
       "</style>\n",
       "<table border=\"1\" class=\"dataframe\">\n",
       "  <thead>\n",
       "    <tr style=\"text-align: right;\">\n",
       "      <th>Code_Description</th>\n",
       "      <th>LESS_EXERCISE</th>\n",
       "      <th>LESS_MEAL_INJESTION</th>\n",
       "      <th>MORE_EXERCISE</th>\n",
       "      <th>MORE_MEAL_INJESTION</th>\n",
       "      <th>NPH_INSULIN_DOSE</th>\n",
       "      <th>POST_BREAKFAST</th>\n",
       "      <th>POST_LUNCH</th>\n",
       "      <th>POST_SUPPER</th>\n",
       "      <th>PRE_BREAKFAST</th>\n",
       "      <th>PRE_LUNCH</th>\n",
       "      <th>PRE_SNACK</th>\n",
       "      <th>PRE_SUPPER</th>\n",
       "      <th>REGULAR_INSULIN_DOSE</th>\n",
       "      <th>TYPICAL_EXERCISE</th>\n",
       "      <th>TYPICAL_MEAL_INJESTION</th>\n",
       "      <th>ULTRALENTE_INSULIN_DOSE</th>\n",
       "      <th>UNKNOWN</th>\n",
       "      <th>Hypo_Flag</th>\n",
       "    </tr>\n",
       "    <tr>\n",
       "      <th>Patient_ID</th>\n",
       "      <th></th>\n",
       "      <th></th>\n",
       "      <th></th>\n",
       "      <th></th>\n",
       "      <th></th>\n",
       "      <th></th>\n",
       "      <th></th>\n",
       "      <th></th>\n",
       "      <th></th>\n",
       "      <th></th>\n",
       "      <th></th>\n",
       "      <th></th>\n",
       "      <th></th>\n",
       "      <th></th>\n",
       "      <th></th>\n",
       "      <th></th>\n",
       "      <th></th>\n",
       "      <th></th>\n",
       "    </tr>\n",
       "  </thead>\n",
       "  <tbody>\n",
       "    <tr>\n",
       "      <th>1</th>\n",
       "      <td>NaN</td>\n",
       "      <td>NaN</td>\n",
       "      <td>NaN</td>\n",
       "      <td>NaN</td>\n",
       "      <td>16.0</td>\n",
       "      <td>NaN</td>\n",
       "      <td>NaN</td>\n",
       "      <td>NaN</td>\n",
       "      <td>163.0</td>\n",
       "      <td>135.0</td>\n",
       "      <td>NaN</td>\n",
       "      <td>156.0</td>\n",
       "      <td>7.0</td>\n",
       "      <td>NaN</td>\n",
       "      <td>NaN</td>\n",
       "      <td>NaN</td>\n",
       "      <td>133.0</td>\n",
       "      <td>True</td>\n",
       "    </tr>\n",
       "    <tr>\n",
       "      <th>2</th>\n",
       "      <td>NaN</td>\n",
       "      <td>NaN</td>\n",
       "      <td>NaN</td>\n",
       "      <td>NaN</td>\n",
       "      <td>14.0</td>\n",
       "      <td>NaN</td>\n",
       "      <td>NaN</td>\n",
       "      <td>NaN</td>\n",
       "      <td>215.0</td>\n",
       "      <td>169.0</td>\n",
       "      <td>NaN</td>\n",
       "      <td>181.0</td>\n",
       "      <td>10.0</td>\n",
       "      <td>NaN</td>\n",
       "      <td>NaN</td>\n",
       "      <td>NaN</td>\n",
       "      <td>198.0</td>\n",
       "      <td>False</td>\n",
       "    </tr>\n",
       "    <tr>\n",
       "      <th>3</th>\n",
       "      <td>NaN</td>\n",
       "      <td>NaN</td>\n",
       "      <td>NaN</td>\n",
       "      <td>0.0</td>\n",
       "      <td>8.0</td>\n",
       "      <td>NaN</td>\n",
       "      <td>178.0</td>\n",
       "      <td>200.0</td>\n",
       "      <td>99.0</td>\n",
       "      <td>65.0</td>\n",
       "      <td>116.0</td>\n",
       "      <td>170.0</td>\n",
       "      <td>3.0</td>\n",
       "      <td>NaN</td>\n",
       "      <td>NaN</td>\n",
       "      <td>8.0</td>\n",
       "      <td>115.0</td>\n",
       "      <td>True</td>\n",
       "    </tr>\n",
       "    <tr>\n",
       "      <th>4</th>\n",
       "      <td>NaN</td>\n",
       "      <td>NaN</td>\n",
       "      <td>NaN</td>\n",
       "      <td>0.0</td>\n",
       "      <td>8.0</td>\n",
       "      <td>NaN</td>\n",
       "      <td>187.5</td>\n",
       "      <td>250.5</td>\n",
       "      <td>123.0</td>\n",
       "      <td>100.0</td>\n",
       "      <td>161.0</td>\n",
       "      <td>223.0</td>\n",
       "      <td>3.0</td>\n",
       "      <td>NaN</td>\n",
       "      <td>NaN</td>\n",
       "      <td>8.0</td>\n",
       "      <td>141.5</td>\n",
       "      <td>True</td>\n",
       "    </tr>\n",
       "    <tr>\n",
       "      <th>5</th>\n",
       "      <td>NaN</td>\n",
       "      <td>NaN</td>\n",
       "      <td>NaN</td>\n",
       "      <td>0.0</td>\n",
       "      <td>8.0</td>\n",
       "      <td>NaN</td>\n",
       "      <td>166.0</td>\n",
       "      <td>249.5</td>\n",
       "      <td>140.0</td>\n",
       "      <td>115.5</td>\n",
       "      <td>154.5</td>\n",
       "      <td>230.0</td>\n",
       "      <td>3.0</td>\n",
       "      <td>NaN</td>\n",
       "      <td>NaN</td>\n",
       "      <td>NaN</td>\n",
       "      <td>171.0</td>\n",
       "      <td>False</td>\n",
       "    </tr>\n",
       "  </tbody>\n",
       "</table>\n",
       "</div>"
      ],
      "text/plain": [
       "Code_Description  LESS_EXERCISE  LESS_MEAL_INJESTION  MORE_EXERCISE  \\\n",
       "Patient_ID                                                            \n",
       "1                           NaN                  NaN            NaN   \n",
       "2                           NaN                  NaN            NaN   \n",
       "3                           NaN                  NaN            NaN   \n",
       "4                           NaN                  NaN            NaN   \n",
       "5                           NaN                  NaN            NaN   \n",
       "\n",
       "Code_Description  MORE_MEAL_INJESTION  NPH_INSULIN_DOSE  POST_BREAKFAST  \\\n",
       "Patient_ID                                                                \n",
       "1                                 NaN              16.0             NaN   \n",
       "2                                 NaN              14.0             NaN   \n",
       "3                                 0.0               8.0             NaN   \n",
       "4                                 0.0               8.0             NaN   \n",
       "5                                 0.0               8.0             NaN   \n",
       "\n",
       "Code_Description  POST_LUNCH  POST_SUPPER  PRE_BREAKFAST  PRE_LUNCH  \\\n",
       "Patient_ID                                                            \n",
       "1                        NaN          NaN          163.0      135.0   \n",
       "2                        NaN          NaN          215.0      169.0   \n",
       "3                      178.0        200.0           99.0       65.0   \n",
       "4                      187.5        250.5          123.0      100.0   \n",
       "5                      166.0        249.5          140.0      115.5   \n",
       "\n",
       "Code_Description  PRE_SNACK  PRE_SUPPER  REGULAR_INSULIN_DOSE  \\\n",
       "Patient_ID                                                      \n",
       "1                       NaN       156.0                   7.0   \n",
       "2                       NaN       181.0                  10.0   \n",
       "3                     116.0       170.0                   3.0   \n",
       "4                     161.0       223.0                   3.0   \n",
       "5                     154.5       230.0                   3.0   \n",
       "\n",
       "Code_Description  TYPICAL_EXERCISE  TYPICAL_MEAL_INJESTION  \\\n",
       "Patient_ID                                                   \n",
       "1                              NaN                     NaN   \n",
       "2                              NaN                     NaN   \n",
       "3                              NaN                     NaN   \n",
       "4                              NaN                     NaN   \n",
       "5                              NaN                     NaN   \n",
       "\n",
       "Code_Description  ULTRALENTE_INSULIN_DOSE  UNKNOWN  Hypo_Flag  \n",
       "Patient_ID                                                     \n",
       "1                                     NaN    133.0       True  \n",
       "2                                     NaN    198.0      False  \n",
       "3                                     8.0    115.0       True  \n",
       "4                                     8.0    141.5       True  \n",
       "5                                     NaN    171.0      False  "
      ]
     },
     "execution_count": 37,
     "metadata": {},
     "output_type": "execute_result"
    }
   ],
   "source": [
    "df_pivot.head()"
   ]
  },
  {
   "cell_type": "code",
   "execution_count": 103,
   "metadata": {},
   "outputs": [],
   "source": [
    "df_pivot = df_pivot.fillna(0)\n",
    "\n",
    "data_array = df_pivot.values\n",
    "\n",
    "Xs = np.array(data_array[:,0:-1], dtype='f')\n",
    "ys =  np.array(data_array[:,-1], dtype='f')\n",
    "\n",
    "X_train, X_test,y_train,  y_test = train_test_split(Xs,ys, test_size=0.3, random_state=20)"
   ]
  },
  {
   "cell_type": "code",
   "execution_count": 100,
   "metadata": {},
   "outputs": [
    {
     "data": {
      "text/plain": [
       "numpy.ndarray"
      ]
     },
     "execution_count": 100,
     "metadata": {},
     "output_type": "execute_result"
    }
   ],
   "source": [
    "type(Xs)"
   ]
  },
  {
   "cell_type": "code",
   "execution_count": 109,
   "metadata": {},
   "outputs": [
    {
     "name": "stdout",
     "output_type": "stream",
     "text": [
      "Best score is 0.9183673469387755\n"
     ]
    }
   ],
   "source": [
    "scaler = StandardScaler()\n",
    "treeClassifier = DecisionTreeClassifier()\n",
    "\n",
    "param_dist = {\"max_depth\": [5, None],\n",
    "              \"criterion\": [\"gini\", \"entropy\"]}\n",
    "c_space = np.logspace(-5, 8, 15)\n",
    "param_grid = {'C': c_space, 'penalty': ['l1', 'l2']}\n",
    "\n",
    "gCV = GridSearchCV(treeClassifier , param_dist,cv=5 )\n",
    "gCV.fit(X_train, y_train)\n",
    "\n",
    "print(\"Best score is {}\".format(gCV.best_score_))\n",
    "\n"
   ]
  },
  {
   "cell_type": "code",
   "execution_count": 110,
   "metadata": {},
   "outputs": [
    {
     "name": "stdout",
     "output_type": "stream",
     "text": [
      "Tuned Logistic Regression Parameter: {'C': 1.0000000000000001e-05, 'penalty': 'l2'}\n",
      "Tuned Logistic Regression Accuracy: 0.9183673469387755\n"
     ]
    }
   ],
   "source": [
    "scaler = StandardScaler()\n",
    "logreg = LogisticRegression()\n",
    "c_space = np.logspace(-5, 8, 15)\n",
    "param_grid = {'C': c_space, 'penalty': ['l1', 'l2']}\n",
    "\n",
    "# Instantiate the GridSearchCV object: logreg_cv\n",
    "logreg_cv = GridSearchCV(logreg, param_grid, cv=5 )\n",
    "\n",
    "# Fit it to the training data\n",
    "logreg_cv.fit(X_train, y_train)\n",
    "\n",
    "# Print the optimal parameters and best score\n",
    "print(\"Tuned Logistic Regression Parameter: {}\".format(logreg_cv.best_params_))\n",
    "print(\"Tuned Logistic Regression Accuracy: {}\".format(logreg_cv.best_score_))"
   ]
  },
  {
   "cell_type": "code",
   "execution_count": 114,
   "metadata": {},
   "outputs": [
    {
     "data": {
      "text/plain": [
       "0.61904761904761907"
      ]
     },
     "execution_count": 114,
     "metadata": {},
     "output_type": "execute_result"
    }
   ],
   "source": [
    "logreg_cv.predict(X_test)\n",
    "\n",
    "gCV.score(X_test, y_test)"
   ]
  },
  {
   "cell_type": "code",
   "execution_count": 118,
   "metadata": {},
   "outputs": [],
   "source": [
    "df['Date_Time'] = pd.to_datetime(df['Date_Time'])"
   ]
  },
  {
   "cell_type": "code",
   "execution_count": 162,
   "metadata": {},
   "outputs": [
    {
     "data": {
      "text/plain": [
       "datetime.datetime(1990, 1, 1, 8, 0)"
      ]
     },
     "execution_count": 162,
     "metadata": {},
     "output_type": "execute_result"
    }
   ],
   "source": [
    "datetime.combine(df.iloc[0,4].date() - timedelta((df.iloc[0].Date_Time - pd.to_datetime('1990-01-01')).days),\n",
    "                df.iloc[0,4].time()) \n"
   ]
  },
  {
   "cell_type": "code",
   "execution_count": 161,
   "metadata": {},
   "outputs": [
    {
     "data": {
      "text/plain": [
       "Timestamp('1991-05-20 08:00:00')"
      ]
     },
     "execution_count": 161,
     "metadata": {},
     "output_type": "execute_result"
    }
   ],
   "source": [
    "df.iloc[0,4]"
   ]
  },
  {
   "cell_type": "code",
   "execution_count": 160,
   "metadata": {},
   "outputs": [
    {
     "data": {
      "text/plain": [
       "datetime.datetime(1990, 1, 1, 8, 0)"
      ]
     },
     "execution_count": 160,
     "metadata": {},
     "output_type": "execute_result"
    }
   ],
   "source": [
    "datetime.combine(x, df.iloc[0,4].time())"
   ]
  },
  {
   "cell_type": "code",
   "execution_count": 168,
   "metadata": {},
   "outputs": [
    {
     "ename": "AttributeError",
     "evalue": "'Timestamp' object has no attribute 'head'",
     "output_type": "error",
     "traceback": [
      "\u001b[0;31m---------------------------------------------------------------------------\u001b[0m",
      "\u001b[0;31mAttributeError\u001b[0m                            Traceback (most recent call last)",
      "\u001b[0;32m<ipython-input-168-db427fddee1a>\u001b[0m in \u001b[0;36m<module>\u001b[0;34m()\u001b[0m\n\u001b[0;32m----> 1\u001b[0;31m \u001b[0mdf\u001b[0m\u001b[0;34m[\u001b[0m\u001b[0;34m'Date_Time'\u001b[0m\u001b[0;34m]\u001b[0m \u001b[0;34m-\u001b[0m \u001b[0mpd\u001b[0m\u001b[0;34m.\u001b[0m\u001b[0mto_datetime\u001b[0m\u001b[0;34m(\u001b[0m\u001b[0;34m'1900-01-01'\u001b[0m\u001b[0;34m,\u001b[0m \u001b[0mformat\u001b[0m\u001b[0;34m=\u001b[0m\u001b[0;34m'%Y-%m-%d'\u001b[0m\u001b[0;34m)\u001b[0m\u001b[0;34m.\u001b[0m\u001b[0mhead\u001b[0m\u001b[0;34m(\u001b[0m\u001b[0;34m)\u001b[0m\u001b[0;34m\u001b[0m\u001b[0m\n\u001b[0m",
      "\u001b[0;31mAttributeError\u001b[0m: 'Timestamp' object has no attribute 'head'"
     ]
    }
   ],
   "source": [
    "df['Date_Time'] - pd.to_datetime('1900-01-01', format='%Y-%m-%d').head()"
   ]
  },
  {
   "cell_type": "code",
   "execution_count": 171,
   "metadata": {},
   "outputs": [
    {
     "ename": "AttributeError",
     "evalue": "'Timestamp' object has no attribute 'head'",
     "output_type": "error",
     "traceback": [
      "\u001b[0;31m---------------------------------------------------------------------------\u001b[0m",
      "\u001b[0;31mAttributeError\u001b[0m                            Traceback (most recent call last)",
      "\u001b[0;32m<ipython-input-171-2f5514e8bc66>\u001b[0m in \u001b[0;36m<module>\u001b[0;34m()\u001b[0m\n\u001b[0;32m----> 1\u001b[0;31m \u001b[0mdf\u001b[0m\u001b[0;34m[\u001b[0m\u001b[0;34m'Date_Time'\u001b[0m\u001b[0;34m]\u001b[0m \u001b[0;34m-\u001b[0m \u001b[0mdf\u001b[0m\u001b[0;34m[\u001b[0m\u001b[0;34m'Date_Time'\u001b[0m\u001b[0;34m]\u001b[0m\u001b[0;34m.\u001b[0m\u001b[0mmin\u001b[0m\u001b[0;34m(\u001b[0m\u001b[0;34m)\u001b[0m\u001b[0;34m.\u001b[0m\u001b[0mhead\u001b[0m\u001b[0;34m(\u001b[0m\u001b[0;34m)\u001b[0m\u001b[0;34m\u001b[0m\u001b[0m\n\u001b[0m",
      "\u001b[0;31mAttributeError\u001b[0m: 'Timestamp' object has no attribute 'head'"
     ]
    }
   ],
   "source": [
    "df['Date_Time'] - df['Date_Time'].min().head()"
   ]
  },
  {
   "cell_type": "code",
   "execution_count": 180,
   "metadata": {},
   "outputs": [],
   "source": [
    "\n",
    "\n",
    "for i in range(1, 70):\n",
    "    df.loc[df['Patient_ID']==i,'time_delta'] = df.loc[df['Patient_ID']==i,'Date_Time'] - df.loc[df['Patient_ID']==i,'Date_Time'].min()"
   ]
  },
  {
   "cell_type": "code",
   "execution_count": 185,
   "metadata": {},
   "outputs": [
    {
     "data": {
      "text/plain": [
       "4462     0 days 00:00:00\n",
       "4463     0 days 04:38:00\n",
       "4464     0 days 00:00:00\n",
       "4465     0 days 09:27:00\n",
       "4466     0 days 04:38:00\n",
       "4467     0 days 14:36:00\n",
       "4468     1 days 00:00:00\n",
       "4469     1 days 04:38:00\n",
       "4470     1 days 00:00:00\n",
       "4471     1 days 04:38:00\n",
       "4472     1 days 09:27:00\n",
       "4473     1 days 04:38:00\n",
       "4474     2 days 00:00:00\n",
       "4475     2 days 04:38:00\n",
       "4476     2 days 00:00:00\n",
       "4477     2 days 09:27:00\n",
       "4478     2 days 04:38:00\n",
       "4479     3 days 00:00:00\n",
       "4480     3 days 04:38:00\n",
       "4481     3 days 00:00:00\n",
       "4482     3 days 04:38:00\n",
       "4483     3 days 09:27:00\n",
       "4484     3 days 14:36:00\n",
       "4485     3 days 04:38:00\n",
       "4486     4 days 00:00:00\n",
       "4487     4 days 04:38:00\n",
       "4488     4 days 00:00:00\n",
       "4489     4 days 04:38:00\n",
       "4490     4 days 09:27:00\n",
       "4491     4 days 04:38:00\n",
       "              ...       \n",
       "5332   130 days 04:38:00\n",
       "5333   130 days 00:00:00\n",
       "5334   130 days 09:27:00\n",
       "5335   130 days 04:38:00\n",
       "5336   131 days 00:00:00\n",
       "5337   131 days 04:38:00\n",
       "5338   131 days 00:00:00\n",
       "5339   131 days 04:38:00\n",
       "5340   131 days 09:27:00\n",
       "5341   131 days 04:38:00\n",
       "5342   132 days 00:00:00\n",
       "5343   132 days 04:38:00\n",
       "5344   132 days 00:00:00\n",
       "5345   132 days 09:27:00\n",
       "5346   132 days 04:38:00\n",
       "5347   132 days 14:36:00\n",
       "5348   132 days 04:38:00\n",
       "5349   133 days 00:00:00\n",
       "5350   133 days 04:38:00\n",
       "5351   133 days 00:00:00\n",
       "5352   133 days 14:36:00\n",
       "5353   134 days 04:38:00\n",
       "5354   134 days 00:00:00\n",
       "5355   134 days 04:38:00\n",
       "5356   134 days 09:27:00\n",
       "5357   134 days 04:38:00\n",
       "5358   134 days 14:36:00\n",
       "5359   135 days 00:00:00\n",
       "5360   135 days 04:38:00\n",
       "5361   135 days 00:00:00\n",
       "Name: time_delta, Length: 900, dtype: timedelta64[ns]"
      ]
     },
     "execution_count": 185,
     "metadata": {},
     "output_type": "execute_result"
    }
   ],
   "source": []
  },
  {
   "cell_type": "code",
   "execution_count": null,
   "metadata": {
    "collapsed": true
   },
   "outputs": [],
   "source": []
  }
 ],
 "metadata": {
  "kernelspec": {
   "display_name": "Python 3",
   "language": "python",
   "name": "python3"
  },
  "language_info": {
   "codemirror_mode": {
    "name": "ipython",
    "version": 3
   },
   "file_extension": ".py",
   "mimetype": "text/x-python",
   "name": "python",
   "nbconvert_exporter": "python",
   "pygments_lexer": "ipython3",
   "version": "3.6.3"
  }
 },
 "nbformat": 4,
 "nbformat_minor": 2
}
